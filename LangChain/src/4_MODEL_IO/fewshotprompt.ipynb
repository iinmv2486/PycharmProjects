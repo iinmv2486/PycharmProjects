{
 "cells": [
  {
   "metadata": {
    "ExecuteTime": {
     "end_time": "2024-07-11T12:55:36.869890Z",
     "start_time": "2024-07-11T12:55:36.863311Z"
    }
   },
   "cell_type": "code",
   "source": [
    "import os\n",
    "from dotenv import load_dotenv\n",
    "\n",
    "load_dotenv()\n",
    "open_ai_key = os.getenv(\"OPEN_AI_API_KEY\")"
   ],
   "id": "93179483b53d115e",
   "outputs": [],
   "execution_count": 5
  },
  {
   "metadata": {
    "ExecuteTime": {
     "end_time": "2024-07-11T12:55:36.885662Z",
     "start_time": "2024-07-11T12:55:36.871589Z"
    }
   },
   "cell_type": "code",
   "source": [
    "from langchain.chat_models import ChatOpenAI\n",
    "from langchain.prompts import ChatPromptTemplate\n",
    "from langchain.prompts.few_shot import FewShotChatMessagePromptTemplate\n",
    "from langchain.callbacks import StreamingStdOutCallbackHandler\n",
    "from langchain.prompts.example_selector import LengthBasedExampleSelector\n",
    "\n",
    "chat = ChatOpenAI(\n",
    "    temperature=0.1,\n",
    "    streaming=True,\n",
    "    callbacks=[\n",
    "        StreamingStdOutCallbackHandler(),\n",
    "    ]\n",
    ")\n"
   ],
   "id": "initial_id",
   "outputs": [],
   "execution_count": 6
  },
  {
   "metadata": {
    "ExecuteTime": {
     "end_time": "2024-07-11T12:55:36.957517Z",
     "start_time": "2024-07-11T12:55:36.887201Z"
    }
   },
   "cell_type": "code",
   "source": [
    "examples = [\n",
    "{\n",
    "\"country\": \"France\",\n",
    "\"answer\": \"\"\"\n",
    "Here is what I know:\n",
    "Capital: Paris\n",
    "Language: French\n",
    "Food: Wine and Cheese\n",
    "Currency: Euro\n",
    "\"\"\",\n",
    "},\n",
    "{\n",
    "\"country\": \"Italy\",\n",
    "\"answer\": \"\"\"\n",
    "I know this:\n",
    "Capital: Rome\n",
    "Language: Italian\n",
    "Food: Pizza and Pasta\n",
    "Currency: Euro\n",
    "\"\"\",\n",
    "},\n",
    "{\n",
    "\"country\": \"Greece\",\n",
    "\"answer\": \"\"\"\n",
    "I know this:\n",
    "Capital: Athens\n",
    "Language: Greek\n",
    "Food: Souvlaki and Feta Cheese\n",
    "Currency: Euro\n",
    "\"\"\",\n",
    "},\n",
    "]\n",
    "\n",
    "example_prompt = ChatPromptTemplate.from_messages([\n",
    "    (\"human\", \"What do you know about {country}?\"),\n",
    "    (\"ai\", \"{answer}?\")\n",
    "])\n",
    "\n",
    "example_selector = LengthBasedExampleSelector(\n",
    "    examples=examples,\n",
    "    example_prompt=example_prompt,\n",
    "    max_length=10,\n",
    ")\n",
    "\n",
    "prompt = FewShotChatMessagePromptTemplate(\n",
    "    example_prompt=example_prompt,\n",
    "    example_selector=example_selector,\n",
    "    suffix =\"Human: What do you know about {country}?\",\n",
    "    input_variable=[\"country\"],\n",
    ")\n",
    "\n",
    "prompt.format(country=\"Brazil\")"
   ],
   "id": "ac69be9d881d43cb",
   "outputs": [
    {
     "ename": "KeyError",
     "evalue": "'template'",
     "output_type": "error",
     "traceback": [
      "\u001B[1;31m---------------------------------------------------------------------------\u001B[0m",
      "\u001B[1;31mKeyError\u001B[0m                                  Traceback (most recent call last)",
      "Cell \u001B[1;32mIn[7], line 39\u001B[0m\n\u001B[0;32m      1\u001B[0m examples \u001B[38;5;241m=\u001B[39m [\n\u001B[0;32m      2\u001B[0m {\n\u001B[0;32m      3\u001B[0m \u001B[38;5;124m\"\u001B[39m\u001B[38;5;124mcountry\u001B[39m\u001B[38;5;124m\"\u001B[39m: \u001B[38;5;124m\"\u001B[39m\u001B[38;5;124mFrance\u001B[39m\u001B[38;5;124m\"\u001B[39m,\n\u001B[1;32m   (...)\u001B[0m\n\u001B[0;32m     31\u001B[0m },\n\u001B[0;32m     32\u001B[0m ]\n\u001B[0;32m     34\u001B[0m example_prompt \u001B[38;5;241m=\u001B[39m ChatPromptTemplate\u001B[38;5;241m.\u001B[39mfrom_messages([\n\u001B[0;32m     35\u001B[0m     (\u001B[38;5;124m\"\u001B[39m\u001B[38;5;124mhuman\u001B[39m\u001B[38;5;124m\"\u001B[39m, \u001B[38;5;124m\"\u001B[39m\u001B[38;5;124mWhat do you know about \u001B[39m\u001B[38;5;132;01m{country}\u001B[39;00m\u001B[38;5;124m?\u001B[39m\u001B[38;5;124m\"\u001B[39m),\n\u001B[0;32m     36\u001B[0m     (\u001B[38;5;124m\"\u001B[39m\u001B[38;5;124mai\u001B[39m\u001B[38;5;124m\"\u001B[39m, \u001B[38;5;124m\"\u001B[39m\u001B[38;5;132;01m{answer}\u001B[39;00m\u001B[38;5;124m?\u001B[39m\u001B[38;5;124m\"\u001B[39m)\n\u001B[0;32m     37\u001B[0m ])\n\u001B[1;32m---> 39\u001B[0m example_selector \u001B[38;5;241m=\u001B[39m \u001B[43mLengthBasedExampleSelector\u001B[49m\u001B[43m(\u001B[49m\n\u001B[0;32m     40\u001B[0m \u001B[43m    \u001B[49m\u001B[43mexamples\u001B[49m\u001B[38;5;241;43m=\u001B[39;49m\u001B[43mexamples\u001B[49m\u001B[43m,\u001B[49m\n\u001B[0;32m     41\u001B[0m \u001B[43m    \u001B[49m\u001B[43mexample_prompt\u001B[49m\u001B[38;5;241;43m=\u001B[39;49m\u001B[43mexample_prompt\u001B[49m\u001B[43m,\u001B[49m\n\u001B[0;32m     42\u001B[0m \u001B[43m    \u001B[49m\u001B[43mmax_length\u001B[49m\u001B[38;5;241;43m=\u001B[39;49m\u001B[38;5;241;43m10\u001B[39;49m\u001B[43m,\u001B[49m\n\u001B[0;32m     43\u001B[0m \u001B[43m)\u001B[49m\n\u001B[0;32m     45\u001B[0m prompt \u001B[38;5;241m=\u001B[39m FewShotChatMessagePromptTemplate(\n\u001B[0;32m     46\u001B[0m     example_prompt\u001B[38;5;241m=\u001B[39mexample_prompt,\n\u001B[0;32m     47\u001B[0m     example_selector\u001B[38;5;241m=\u001B[39mexample_selector,\n\u001B[0;32m     48\u001B[0m     suffix \u001B[38;5;241m=\u001B[39m\u001B[38;5;124m\"\u001B[39m\u001B[38;5;124mHuman: What do you know about \u001B[39m\u001B[38;5;132;01m{country}\u001B[39;00m\u001B[38;5;124m?\u001B[39m\u001B[38;5;124m\"\u001B[39m,\n\u001B[0;32m     49\u001B[0m     input_variable\u001B[38;5;241m=\u001B[39m[\u001B[38;5;124m\"\u001B[39m\u001B[38;5;124mcountry\u001B[39m\u001B[38;5;124m\"\u001B[39m],\n\u001B[0;32m     50\u001B[0m )\n\u001B[0;32m     52\u001B[0m prompt\u001B[38;5;241m.\u001B[39mformat(country\u001B[38;5;241m=\u001B[39m\u001B[38;5;124m\"\u001B[39m\u001B[38;5;124mBrazil\u001B[39m\u001B[38;5;124m\"\u001B[39m)\n",
      "File \u001B[1;32m~\\PycharmProjects\\LangChain\\.venv\\Lib\\site-packages\\pydantic\\main.py:339\u001B[0m, in \u001B[0;36mpydantic.main.BaseModel.__init__\u001B[1;34m()\u001B[0m\n",
      "File \u001B[1;32m~\\PycharmProjects\\LangChain\\.venv\\Lib\\site-packages\\pydantic\\main.py:1076\u001B[0m, in \u001B[0;36mpydantic.main.validate_model\u001B[1;34m()\u001B[0m\n",
      "File \u001B[1;32m~\\PycharmProjects\\LangChain\\.venv\\Lib\\site-packages\\pydantic\\fields.py:884\u001B[0m, in \u001B[0;36mpydantic.fields.ModelField.validate\u001B[1;34m()\u001B[0m\n",
      "File \u001B[1;32m~\\PycharmProjects\\LangChain\\.venv\\Lib\\site-packages\\pydantic\\fields.py:1101\u001B[0m, in \u001B[0;36mpydantic.fields.ModelField._validate_singleton\u001B[1;34m()\u001B[0m\n",
      "File \u001B[1;32m~\\PycharmProjects\\LangChain\\.venv\\Lib\\site-packages\\pydantic\\fields.py:1157\u001B[0m, in \u001B[0;36mpydantic.fields.ModelField._apply_validators\u001B[1;34m()\u001B[0m\n",
      "File \u001B[1;32m~\\PycharmProjects\\LangChain\\.venv\\Lib\\site-packages\\pydantic\\class_validators.py:337\u001B[0m, in \u001B[0;36mpydantic.class_validators._generic_validator_basic.lambda13\u001B[1;34m()\u001B[0m\n",
      "File \u001B[1;32m~\\PycharmProjects\\LangChain\\.venv\\Lib\\site-packages\\pydantic\\main.py:719\u001B[0m, in \u001B[0;36mpydantic.main.BaseModel.validate\u001B[1;34m()\u001B[0m\n",
      "File \u001B[1;32m~\\PycharmProjects\\LangChain\\.venv\\Lib\\site-packages\\langchain\\load\\serializable.py:97\u001B[0m, in \u001B[0;36mSerializable.__init__\u001B[1;34m(self, **kwargs)\u001B[0m\n\u001B[0;32m     96\u001B[0m \u001B[38;5;28;01mdef\u001B[39;00m \u001B[38;5;21m__init__\u001B[39m(\u001B[38;5;28mself\u001B[39m, \u001B[38;5;241m*\u001B[39m\u001B[38;5;241m*\u001B[39mkwargs: Any) \u001B[38;5;241m-\u001B[39m\u001B[38;5;241m>\u001B[39m \u001B[38;5;28;01mNone\u001B[39;00m:\n\u001B[1;32m---> 97\u001B[0m     \u001B[38;5;28;43msuper\u001B[39;49m\u001B[43m(\u001B[49m\u001B[43m)\u001B[49m\u001B[38;5;241;43m.\u001B[39;49m\u001B[38;5;21;43m__init__\u001B[39;49m\u001B[43m(\u001B[49m\u001B[38;5;241;43m*\u001B[39;49m\u001B[38;5;241;43m*\u001B[39;49m\u001B[43mkwargs\u001B[49m\u001B[43m)\u001B[49m\n\u001B[0;32m     98\u001B[0m     \u001B[38;5;28mself\u001B[39m\u001B[38;5;241m.\u001B[39m_lc_kwargs \u001B[38;5;241m=\u001B[39m kwargs\n",
      "File \u001B[1;32m~\\PycharmProjects\\LangChain\\.venv\\Lib\\site-packages\\pydantic\\main.py:339\u001B[0m, in \u001B[0;36mpydantic.main.BaseModel.__init__\u001B[1;34m()\u001B[0m\n",
      "File \u001B[1;32m~\\PycharmProjects\\LangChain\\.venv\\Lib\\site-packages\\pydantic\\main.py:1102\u001B[0m, in \u001B[0;36mpydantic.main.validate_model\u001B[1;34m()\u001B[0m\n",
      "File \u001B[1;32m~\\PycharmProjects\\LangChain\\.venv\\Lib\\site-packages\\langchain\\prompts\\prompt.py:140\u001B[0m, in \u001B[0;36mPromptTemplate.template_is_valid\u001B[1;34m(cls, values)\u001B[0m\n\u001B[0;32m    133\u001B[0m     check_valid_template(\n\u001B[0;32m    134\u001B[0m         values[\u001B[38;5;124m\"\u001B[39m\u001B[38;5;124mtemplate\u001B[39m\u001B[38;5;124m\"\u001B[39m], values[\u001B[38;5;124m\"\u001B[39m\u001B[38;5;124mtemplate_format\u001B[39m\u001B[38;5;124m\"\u001B[39m], all_inputs\n\u001B[0;32m    135\u001B[0m     )\n\u001B[0;32m    136\u001B[0m \u001B[38;5;28;01melif\u001B[39;00m values\u001B[38;5;241m.\u001B[39mget(\u001B[38;5;124m\"\u001B[39m\u001B[38;5;124mtemplate_format\u001B[39m\u001B[38;5;124m\"\u001B[39m):\n\u001B[0;32m    137\u001B[0m     values[\u001B[38;5;124m\"\u001B[39m\u001B[38;5;124minput_variables\u001B[39m\u001B[38;5;124m\"\u001B[39m] \u001B[38;5;241m=\u001B[39m [\n\u001B[0;32m    138\u001B[0m         var\n\u001B[0;32m    139\u001B[0m         \u001B[38;5;28;01mfor\u001B[39;00m var \u001B[38;5;129;01min\u001B[39;00m get_template_variables(\n\u001B[1;32m--> 140\u001B[0m             \u001B[43mvalues\u001B[49m\u001B[43m[\u001B[49m\u001B[38;5;124;43m\"\u001B[39;49m\u001B[38;5;124;43mtemplate\u001B[39;49m\u001B[38;5;124;43m\"\u001B[39;49m\u001B[43m]\u001B[49m, values[\u001B[38;5;124m\"\u001B[39m\u001B[38;5;124mtemplate_format\u001B[39m\u001B[38;5;124m\"\u001B[39m]\n\u001B[0;32m    141\u001B[0m         )\n\u001B[0;32m    142\u001B[0m         \u001B[38;5;28;01mif\u001B[39;00m var \u001B[38;5;129;01mnot\u001B[39;00m \u001B[38;5;129;01min\u001B[39;00m values[\u001B[38;5;124m\"\u001B[39m\u001B[38;5;124mpartial_variables\u001B[39m\u001B[38;5;124m\"\u001B[39m]\n\u001B[0;32m    143\u001B[0m     ]\n\u001B[0;32m    144\u001B[0m \u001B[38;5;28;01mreturn\u001B[39;00m values\n",
      "\u001B[1;31mKeyError\u001B[0m: 'template'"
     ]
    }
   ],
   "execution_count": 7
  },
  {
   "metadata": {},
   "cell_type": "code",
   "source": "",
   "id": "c7cf4f611720cb18",
   "outputs": [],
   "execution_count": null
  }
 ],
 "metadata": {
  "kernelspec": {
   "display_name": "Python 3",
   "language": "python",
   "name": "python3"
  },
  "language_info": {
   "codemirror_mode": {
    "name": "ipython",
    "version": 2
   },
   "file_extension": ".py",
   "mimetype": "text/x-python",
   "name": "python",
   "nbconvert_exporter": "python",
   "pygments_lexer": "ipython2",
   "version": "2.7.6"
  }
 },
 "nbformat": 4,
 "nbformat_minor": 5
}
